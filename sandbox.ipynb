{
 "cells": [
  {
   "cell_type": "code",
   "execution_count": 1,
   "metadata": {},
   "outputs": [],
   "source": []
  },
  {
   "cell_type": "code",
   "execution_count": 4,
   "metadata": {},
   "outputs": [],
   "source": [
    "import os\n",
    "import json\n",
    "from MilvusClient import MilvusClient\n",
    "milvus_client = MilvusClient()"
   ]
  },
  {
   "cell_type": "code",
   "execution_count": 5,
   "metadata": {},
   "outputs": [
    {
     "name": "stdout",
     "output_type": "stream",
     "text": [
      "Collection job_positions does not exist. Creating...\n",
      "2025-04-12 22:39:08,648 - DEBUG - milvus_logger - Created collection: job_positions\n",
      "2025-04-12 22:39:13,654 - DEBUG - milvus_logger - Prepared 10 documents with embeddings\n",
      "2025-04-12 22:39:13,675 - DEBUG - milvus_logger - Inserted 10 documents into job_positions\n"
     ]
    }
   ],
   "source": [
    "# Create a collection with the job positions if it doesn't exist\n",
    "# Note you can do this also by running the job_positions_ingestion.py script\n",
    "# This is just for free-play\n",
    "\n",
    "collection_name = os.getenv(\"MILVUS_COLLECTION\")\n",
    "\n",
    "if milvus_client.client.has_collection(collection_name):\n",
    "    print(f\"Collection {collection_name} already exists. Skipping.\")\n",
    "else:\n",
    "    print(f\"Collection {collection_name} does not exist. Creating...\")\n",
    "    job_positions_file_path = \"job_positions.json\"\n",
    "    with open(job_positions_file_path, 'r') as f:\n",
    "        job_positions = json.load(f)\n",
    "    result = milvus_client.create_and_load_collection(collection_name, job_positions)\n"
   ]
  },
  {
   "cell_type": "code",
   "execution_count": 7,
   "metadata": {},
   "outputs": [
    {
     "name": "stdout",
     "output_type": "stream",
     "text": [
      "==================================================\n",
      "\n",
      "Querying with skills: \n",
      "Unity, Unreal Engine, C#, C++, Python, Git, Perforce, Jira, Visual Studio, Blender, Maya, Photoshop, Gameplay Mechanics, AI Programming, UI/UX Implementation, Physics Simulation, Performance Optimization, Shader Development, Agile, Scrum, Waterfall, Game Design Principles, 3D Mathematics\n",
      "==================================================\n",
      "2025-04-12 22:39:34,384 - DEBUG - milvus_logger - Using WeightedRanker with weights 0.3 and 0.7\n",
      "Found 3 matches:\n",
      "  0. Unity Game Developer at GameVerse Studios\n",
      "     Job ID: GAME-DEV-007\n",
      "     Match Score: 0.7953\n",
      "     Required Skills: Unity, C#, Game Design, 3D Modeling, Animation, Physics, AR/VR, Git, Agile, Problem-solving\n",
      "\n",
      "  1. Full Stack Developer at WebMatrix Technologies\n",
      "     Job ID: DEV-FS-002\n",
      "     Match Score: 0.7171\n",
      "     Required Skills: JavaScript, TypeScript, React, Node.js, Express, MongoDB, REST APIs, Git, Agile, CI/CD\n",
      "\n",
      "  2. Machine Learning Engineer at TechInnovate Solutions\n",
      "     Job ID: ML-DS-001\n",
      "     Match Score: 0.5042\n",
      "     Required Skills: Python, TensorFlow, PyTorch, Scikit-learn, Deep Learning, SQL, Docker, Git, MLOps\n",
      "\n"
     ]
    }
   ],
   "source": [
    "# You can play with Milvus vector database here to check job positions\n",
    "# This job positions will be retrieved by the RAG agent\n",
    "test_query = \"\"\"\n",
    "Unity, Unreal Engine, C#, C++, Python, Git, Perforce, Jira, Visual Studio, Blender, Maya, Photoshop, Gameplay Mechanics, AI Programming, UI/UX Implementation, Physics Simulation, Performance Optimization, Shader Development, Agile, Scrum, Waterfall, Game Design Principles, 3D Mathematics\"\"\"\n",
    "\n",
    "print(\"=\" * 50)\n",
    "print(f\"\\nQuerying with skills: {test_query}\")\n",
    "print(\"=\" * 50)\n",
    "\n",
    "results = milvus_client.hybrid_search(\n",
    "    collection_name=collection_name,\n",
    "    query_text=test_query,\n",
    "    limit=3,\n",
    "    ranker_type=\"weighted\",\n",
    "    sparse_weight=0.3,\n",
    "    dense_weight=0.7,\n",
    "    output_fields=[\"job_id\", \"title\", \"company_name\", \"required_skills\"]\n",
    ")\n",
    "\n",
    "print(f\"Found {len(results)} matches:\")\n",
    "for i, hit in enumerate(results):\n",
    "    print(f\"  {i}. {hit['entity']['title']} at {hit['entity']['company_name']}\")\n",
    "    print(f\"     Job ID: {hit['entity']['job_id']}\")\n",
    "    print(f\"     Match Score: {hit['distance']:.4f}\")\n",
    "    print(f\"     Required Skills: {hit['entity']['required_skills']}\")\n",
    "    print()"
   ]
  },
  {
   "cell_type": "code",
   "execution_count": null,
   "metadata": {},
   "outputs": [],
   "source": []
  },
  {
   "cell_type": "code",
   "execution_count": null,
   "metadata": {},
   "outputs": [],
   "source": []
  },
  {
   "cell_type": "code",
   "execution_count": null,
   "metadata": {},
   "outputs": [],
   "source": []
  }
 ],
 "metadata": {
  "kernelspec": {
   "display_name": ".venv",
   "language": "python",
   "name": "python3"
  },
  "language_info": {
   "codemirror_mode": {
    "name": "ipython",
    "version": 3
   },
   "file_extension": ".py",
   "mimetype": "text/x-python",
   "name": "python",
   "nbconvert_exporter": "python",
   "pygments_lexer": "ipython3",
   "version": "3.11.11"
  }
 },
 "nbformat": 4,
 "nbformat_minor": 2
}
